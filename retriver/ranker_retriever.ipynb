{
 "cells": [
  {
   "cell_type": "code",
   "execution_count": 44,
   "metadata": {},
   "outputs": [
    {
     "data": {
      "text/plain": [
       "<Elasticsearch(['http://localhost:9200'])>"
      ]
     },
     "execution_count": 44,
     "metadata": {},
     "output_type": "execute_result"
    }
   ],
   "source": [
    "# TODOs: Operate DB Class\n",
    "# TODOs: Use SQLite\n",
    "# TODOs: Implement BM25\n",
    "\n",
    "from elasticsearch import Elasticsearch\n",
    "\n",
    "# INIT OBJECT\n",
    "\n",
    "PORT = \"http://localhost:9200\"\n",
    "INDEX_NAME = \"knowledge\"\n",
    "errors_before_interrupt = 5\n",
    "refresh_index_after_insert = False\n",
    "max_insert_retries = 3\n",
    "yield_ok = False\n",
    "\n",
    "wiki_ev = Elasticsearch(\n",
    "    PORT,\n",
    "    #http_auth=(es_api_user, es_api_password)\n",
    "    retry_on_timeout=True,  # should timeout trigger a retry on different node?\n",
    ")\n",
    "\n",
    "wiki_ev.elastic_index = INDEX_NAME\n",
    "\n",
    "wiki_ev"
   ]
  },
  {
   "cell_type": "code",
   "execution_count": 49,
   "metadata": {},
   "outputs": [],
   "source": [
    "### SEARCH FUNCTION ###\n",
    "\n",
    "# TODOs: Implement as Class-DB object\n",
    "\n",
    "def search_text(es, query_, k=5):\n",
    "    results = es.search(\n",
    "        index = es.elastic_index,\n",
    "        query = {\n",
    "            \"match\": {\n",
    "                \"document.text\": query_,\n",
    "                },\n",
    "        },\n",
    "        size=k)\n",
    "\n",
    "    hits = results[\"hits\"][\"hits\"]\n",
    "    doc_ids = [row['_source'][\"document\"][\"id\"] for row in hits]\n",
    "\n",
    "    return hits"
   ]
  },
  {
   "cell_type": "code",
   "execution_count": 86,
   "metadata": {},
   "outputs": [],
   "source": [
    "### LOAD DATA ###\n",
    "\n",
    "import json\n",
    "\n",
    "data = [json.loads(ln) for ln in open(\"../data/train_cmv_cleaned.jsonl\")]\n",
    "kp = [json.loads(ln) for ln in open(\"../data/keyphrases.jsonl\")]\n",
    "ex_output = [json.loads(ln) for ln in open(\"../data/wiki_doc_retrieved_from_op_train.jsonlist\")]\n",
    "conan = [json.loads(ln) for ln in open(\"../data/CONAN.json\")]\n"
   ]
  },
  {
   "cell_type": "code",
   "execution_count": 80,
   "metadata": {},
   "outputs": [],
   "source": [
    "### SAMPLE ###\n",
    "\n",
    "sample_args = data[0:5]\n",
    "sample_kp = kp[0:5]\n",
    "sample_output = ex_output[0:5]"
   ]
  },
  {
   "cell_type": "code",
   "execution_count": 48,
   "metadata": {},
   "outputs": [
    {
     "name": "stdout",
     "output_type": "stream",
     "text": [
      "6\n"
     ]
    },
    {
     "data": {
      "text/plain": [
       "[{'retrieved_document_titles': ['Presidential system',\n",
       "   'Turkish general election, June 2015',\n",
       "   'Cabinet (government)',\n",
       "   'Parliamentary system',\n",
       "   'Politics of Russia'],\n",
       "  'query': 'the executive the presidential system legislative branches partisan unproductive',\n",
       "  'sentence': 'My View : I think the presidential system leads to a conflict between the executive and legislative branches of government that is highly partisan and unproductive . '},\n",
       " {'retrieved_document_titles': ['NSA warrantless surveillance (2001–07)',\n",
       "   'United States Intelligence Community Oversight',\n",
       "   'Separation of powers in Singapore',\n",
       "   'Government of Oklahoma',\n",
       "   'Hein v. Freedom From Religion Foundation'],\n",
       "  'query': 'executive branch the judiciary the judiciary the executive oversight regards legislative legislative',\n",
       "  'sentence': 'I understand the separation of powers with regards to ensuring the independence of the judiciary but separating the executive and legislative seems unnecessary as the judiciary and senate provide oversight on the legislative and executive branch . '},\n",
       " {'retrieved_document_titles': ['Afghan presidential election, 2009',\n",
       "   'Voter turnout',\n",
       "   'Voter registration',\n",
       "   'Young voter turnout in Canada',\n",
       "   'Disenfranchisement after the Reconstruction Era'],\n",
       "  'query': 'low voter turn pronounced',\n",
       "  'sentence': 'Also from what I have read -LRB- Im by no means an expert -RRB- low voter turn out seems to be an issue and this is especially pronounced in mid-term elections . '},\n",
       " {'retrieved_document_titles': ['Electoral system of Australia',\n",
       "   'Compulsory voting',\n",
       "   'Voter turnout',\n",
       "   'Afghan presidential election, 2009',\n",
       "   'Instant-runoff voting'],\n",
       "  'query': 'low voter compulsory voting turn remedy',\n",
       "  'sentence': 'I think low voter turn out tends to favour certain demographics at the expense of others and I believe compulsory voting would remedy this . '},\n",
       " {'retrieved_document_titles': ['Electoral system of Australia',\n",
       "   '2013–2014 Thai political crisis',\n",
       "   'Hungarian migrant quota referendum, 2016',\n",
       "   'Political apathy',\n",
       "   'Electronic voting'],\n",
       "  'query': 'an invalid vote the voting booths political apathy the voting sheet refrain voting reconsider voting',\n",
       "  'sentence': 'If you truly wished to refrain from voting you would be able to cast an invalid vote -LRB- scribble over the voting sheet , or check the box None -RRB- but I believe forcing people into the voting booths would make many people reconsider not voting and decrease political apathy which is the greatest threat to social-democracy . '},\n",
       " {'retrieved_document_titles': ['Television content rating systems',\n",
       "   'National Reserve System',\n",
       "   'Walnut Grove, Mississippi',\n",
       "   'Glenn Sisco',\n",
       "   'Darkzone'],\n",
       "  'query': 'australia system australia',\n",
       "  'sentence': \"Note : I am from Australia hence my reference point is Australia 's system of government . \"}]"
      ]
     },
     "execution_count": 48,
     "metadata": {},
     "output_type": "execute_result"
    }
   ],
   "source": [
    "### SAMPLE OUTPUT ###\n",
    "\n",
    "_ = 2\n",
    "sample = sample_output[_][\"retrieval_results\"]\n",
    "\n",
    "print(len(sample))\n",
    "sample\n"
   ]
  },
  {
   "cell_type": "code",
   "execution_count": 96,
   "metadata": {},
   "outputs": [
    {
     "data": {
      "text/plain": [
       "'I am done with Islam and isis. All Muslims should be sent to their homeland. Britain will be better without their violence and ideology.'"
      ]
     },
     "execution_count": 96,
     "metadata": {},
     "output_type": "execute_result"
    }
   ],
   "source": [
    "import keyphrase_extraction\n",
    "from keyphrase_extraction import exctract_keyphrase\n",
    "import re\n",
    "\n",
    "# TODOs: Ranking\n",
    "# TODOs: Stance\n",
    "# TODOs: Paralellise\n",
    "\n",
    "\n",
    "sample_hate = conan[0:100]\n",
    "\n",
    "_ = 85\n",
    "#ar_ = sample_args[_][\"arguments\"]\n",
    "hate_ = sample_hate[0][\"conan\"][_][\"hateSpeech\"]\n",
    "\n",
    "queries = []\n",
    "sentences = re.split(r'(?<!\\w\\.\\w.)(?<![A-Z][a-z]\\.)(?<=\\.|\\?)\\s', hate_)\n",
    "\n",
    "hate_\n",
    "\n",
    "# results = []\n",
    "\n",
    "# for i in sentences:\n",
    "#     # TODOs: Refactor key_BERT as Class for multiple oututs\n",
    "#     kp_ = (exctract_keyphrase(i, n_gram=1, n_kp=1), exctract_keyphrase(i, n_gram=2, n_kp=1), exctract_keyphrase(i, n_gram=3, n_kp=1))\n",
    "    \n",
    "#     query = \", \".join(str(i[0]) for i in kp_)\n",
    "#     res = [i[\"_source\"][\"document\"][\"title\"] for i in search_text(es=wiki_ev, query_=query, k=5)]\n",
    "\n",
    "#     results.append({\n",
    "#         \"argument_sentence\": i, \n",
    "#         \"query\": query, \n",
    "#         \"retireved_documents\": res,\n",
    "\n",
    "#     })\n",
    "\n",
    "# results"
   ]
  },
  {
   "cell_type": "code",
   "execution_count": null,
   "metadata": {},
   "outputs": [],
   "source": []
  },
  {
   "cell_type": "code",
   "execution_count": null,
   "metadata": {},
   "outputs": [
    {
     "data": {
      "text/plain": [
       "[{'_index': 'knowledge',\n",
       "  '_id': 'kbZa5YIBRqC1428DaQUk',\n",
       "  '_score': 33.672318,\n",
       "  '_ignored': ['document.text.keyword'],\n",
       "  '_source': {'document': {'id': '3408791',\n",
       "    'source': 'wikipedia',\n",
       "    'title': 'Ruling party',\n",
       "    'text': \"In parliamentary systems, the majority in the legislature also controls the executive branch of government, thus leaving no possibility of opposing parties concurrently occupying the executive and legislative branches of government. In other systems, such as in an American style presidential system, the party of the president does not necessarily also have a legislative majority. A 'ruling party' is also used to describe the party of one-party states, such as the Chinese Communist Party in the People's Republic of China. In his political manifesto 'The Green Book', the late Libyan leader Muammar al-Gaddafi attacked the ability of the ruling party, using it as a basis for his opposition to partisan politics. None\"}}},\n",
       " {'_index': 'knowledge',\n",
       "  '_id': 'JQ3H5YIBRqC1428Dnwum',\n",
       "  '_score': 33.24501,\n",
       "  '_ignored': ['document.text.keyword'],\n",
       "  '_source': {'document': {'id': '8622040',\n",
       "    'source': 'wikipedia',\n",
       "    'title': 'Fusion of powers',\n",
       "    'text': 'Fusion of powers is a feature of some parliamentary forms of government where different branches of government are intermingled, typically the executive and legislative branches. It is contrasted with the separation of powers found in presidential, semi-presidential and dualistic parliamentary forms of government, where the membership of the legislative and executive powers cannot overlap. Fusion of powers exists in many, if not a majority of, parliamentary democracies, and does so by design. However, in all modern democratic polities the judiciary does not possess legislative or executive powers. The system first arose as a result of political evolution in the United Kingdom over many centuries, as the powers of the monarch became constrained by Parliament.'}}},\n",
       " {'_index': 'knowledge',\n",
       "  '_id': 'OUcA5YIBRqC1428D6vvb',\n",
       "  '_score': 32.941406,\n",
       "  '_ignored': ['document.text.keyword'],\n",
       "  '_source': {'document': {'id': '18988566',\n",
       "    'source': 'wikipedia',\n",
       "    'title': 'Student governments in the United States',\n",
       "    'text': 'Structures. Many student governments are structured similarly to the federal government of the United States, consisting of distinct executive, legislative, and judicial branches. These structures often include elements which are not found in the federal government (e.g. legislative veto, programming branches, initiative, recall, referendum). Just like the federal government, these governments have the trappings of a presidential system, with a separation of powers between branches and a presidential veto. This is by far the most common type of structure, and is found in model student government constitutions and by-laws.'}}}]"
      ]
     },
     "execution_count": 10,
     "metadata": {},
     "output_type": "execute_result"
    }
   ],
   "source": [
    "#queries\n",
    "query = \"the executive the presidential system legislative branches partisan unproductive\"\n",
    "res = search_text(wiki_ev, query_=query, k=3)\n",
    "res"
   ]
  },
  {
   "cell_type": "code",
   "execution_count": null,
   "metadata": {},
   "outputs": [
    {
     "name": "stdout",
     "output_type": "stream",
     "text": [
      "Ruling party, Fusion of powers, Student governments in the United States\n"
     ]
    }
   ],
   "source": [
    "import re\n",
    "\n",
    "print(\", \".join(re.sub(r'\\[\\[(?:[^|\\]]*\\|)?([^\\]]*)]]', \"\", i[\"_source\"][\"document\"][\"title\"]).strip(\"[]\") for i in res))"
   ]
  },
  {
   "cell_type": "code",
   "execution_count": null,
   "metadata": {},
   "outputs": [],
   "source": [
    "### TEST SEARCH ###\n",
    "\n",
    "def search_text(es, query_, k=5):\n",
    "    results = es.search(\n",
    "        index = es.elastic_index,\n",
    "        query = {\n",
    "            \"match\": {\n",
    "                \"document.text\": query_,\n",
    "                },\n",
    "        },\n",
    "        size=k)\n",
    "\n",
    "    hits = results[\"hits\"][\"hits\"]\n",
    "    doc_ids = [row['_source'][\"document\"][\"id\"] for row in hits]\n",
    "\n",
    "    return hits\n",
    "\n",
    "def search_topic(es, topic, k=5):\n",
    "    results = es.search(\n",
    "        index = es.elastic_index,\n",
    "        body= {\n",
    "            \"size\": k,\n",
    "            \"query\": {\n",
    "                \"match\": {\n",
    "                    \"document.title\": topic,\n",
    "        }}})\n",
    "\n",
    "    hits = results[\"hits\"][\"hits\"]\n",
    "    doc_ids = [row['_source'][\"document\"][\"id\"] for row in hits]\n",
    "\n",
    "    title = hits[0][\"_source\"][\"document\"][\"title\"]\n",
    "    text = hits[0][\"_source\"][\"document\"][\"text\"]\n",
    "\n",
    "    return {\n",
    "        \"title\": title,\n",
    "        \"text\": text\n",
    "    }\n",
    "\n",
    "query = \"government emails\"\n",
    "text = search_text(wiki_ev, query_=query, k=10)\n",
    "\n",
    "print(text)\n"
   ]
  },
  {
   "cell_type": "code",
   "execution_count": 1,
   "metadata": {},
   "outputs": [
    {
     "name": "stderr",
     "output_type": "stream",
     "text": [
      "Reusing dataset cc_news (/Users/joshua.sheppard/.cache/huggingface/datasets/cc_news/plain_text/1.0.0/ae469e556251e6e7e20a789f93803c7de19d0c4311b6854ab072fecb4e401bd6)\n"
     ]
    },
    {
     "data": {
      "application/json": {
       "ascii": false,
       "bar_format": null,
       "colour": null,
       "elapsed": 0.010821342468261719,
       "initial": 0,
       "n": 0,
       "ncols": null,
       "nrows": null,
       "postfix": null,
       "prefix": "",
       "rate": null,
       "total": 1,
       "unit": "it",
       "unit_divisor": 1000,
       "unit_scale": false
      },
      "application/vnd.jupyter.widget-view+json": {
       "model_id": "2d2852257fb04cbb84fb81b24dcbb5d7",
       "version_major": 2,
       "version_minor": 0
      },
      "text/plain": [
       "  0%|          | 0/1 [00:00<?, ?it/s]"
      ]
     },
     "metadata": {},
     "output_type": "display_data"
    }
   ],
   "source": [
    "from datasets import load_dataset\n",
    "\n",
    "dataset = load_dataset(\"cc_news\")\n"
   ]
  },
  {
   "cell_type": "code",
   "execution_count": 2,
   "metadata": {},
   "outputs": [
    {
     "data": {
      "text/plain": [
       "DatasetDict({\n",
       "    train: Dataset({\n",
       "        features: ['title', 'text', 'domain', 'date', 'description', 'url', 'image_url'],\n",
       "        num_rows: 708241\n",
       "    })\n",
       "})"
      ]
     },
     "execution_count": 2,
     "metadata": {},
     "output_type": "execute_result"
    }
   ],
   "source": [
    "cc_news_data = [i for i in dataset[\"train\"]]\n",
    "len(cc_news_data)"
   ]
  },
  {
   "cell_type": "code",
   "execution_count": 9,
   "metadata": {},
   "outputs": [
    {
     "ename": "TypeError",
     "evalue": "write() argument must be str, not dict",
     "output_type": "error",
     "traceback": [
      "\u001b[0;31m---------------------------------------------------------------------------\u001b[0m",
      "\u001b[0;31mTypeError\u001b[0m                                 Traceback (most recent call last)",
      "\u001b[1;32m/Users/joshua.sheppard/PycharmProjects/retriever/retriver/ranker_retriever.ipynb Cell 13\u001b[0m in \u001b[0;36m<cell line: 8>\u001b[0;34m()\u001b[0m\n\u001b[1;32m      <a href='vscode-notebook-cell:/Users/joshua.sheppard/PycharmProjects/retriever/retriver/ranker_retriever.ipynb#X15sZmlsZQ%3D%3D?line=6'>7</a>\u001b[0m fout \u001b[39m=\u001b[39m \u001b[39mopen\u001b[39m(\u001b[39m\"\u001b[39m\u001b[39m../data/cc_news.jsonl\u001b[39m\u001b[39m\"\u001b[39m, \u001b[39m\"\u001b[39m\u001b[39mw\u001b[39m\u001b[39m\"\u001b[39m)\n\u001b[1;32m      <a href='vscode-notebook-cell:/Users/joshua.sheppard/PycharmProjects/retriever/retriver/ranker_retriever.ipynb#X15sZmlsZQ%3D%3D?line=7'>8</a>\u001b[0m \u001b[39mfor\u001b[39;00m ln \u001b[39min\u001b[39;00m cc_news_data:\n\u001b[0;32m----> <a href='vscode-notebook-cell:/Users/joshua.sheppard/PycharmProjects/retriever/retriver/ranker_retriever.ipynb#X15sZmlsZQ%3D%3D?line=8'>9</a>\u001b[0m     fout\u001b[39m.\u001b[39;49mwrite({\n\u001b[1;32m     <a href='vscode-notebook-cell:/Users/joshua.sheppard/PycharmProjects/retriever/retriver/ranker_retriever.ipynb#X15sZmlsZQ%3D%3D?line=9'>10</a>\u001b[0m         \u001b[39m\"\u001b[39;49m\u001b[39mtitle\u001b[39;49m\u001b[39m\"\u001b[39;49m: ln[\u001b[39m\"\u001b[39;49m\u001b[39mtitle\u001b[39;49m\u001b[39m\"\u001b[39;49m],\n\u001b[1;32m     <a href='vscode-notebook-cell:/Users/joshua.sheppard/PycharmProjects/retriever/retriver/ranker_retriever.ipynb#X15sZmlsZQ%3D%3D?line=10'>11</a>\u001b[0m         \u001b[39m\"\u001b[39;49m\u001b[39mtext\u001b[39;49m\u001b[39m\"\u001b[39;49m: ln[\u001b[39m\"\u001b[39;49m\u001b[39mtext\u001b[39;49m\u001b[39m\"\u001b[39;49m],\n\u001b[1;32m     <a href='vscode-notebook-cell:/Users/joshua.sheppard/PycharmProjects/retriever/retriver/ranker_retriever.ipynb#X15sZmlsZQ%3D%3D?line=11'>12</a>\u001b[0m         \u001b[39m\"\u001b[39;49m\u001b[39mdomain\u001b[39;49m\u001b[39m\"\u001b[39;49m: ln[\u001b[39m\"\u001b[39;49m\u001b[39mdomain\u001b[39;49m\u001b[39m\"\u001b[39;49m],\n\u001b[1;32m     <a href='vscode-notebook-cell:/Users/joshua.sheppard/PycharmProjects/retriever/retriver/ranker_retriever.ipynb#X15sZmlsZQ%3D%3D?line=12'>13</a>\u001b[0m         \u001b[39m\"\u001b[39;49m\u001b[39mdate\u001b[39;49m\u001b[39m\"\u001b[39;49m: ln[\u001b[39m\"\u001b[39;49m\u001b[39mdate\u001b[39;49m\u001b[39m\"\u001b[39;49m], \n\u001b[1;32m     <a href='vscode-notebook-cell:/Users/joshua.sheppard/PycharmProjects/retriever/retriver/ranker_retriever.ipynb#X15sZmlsZQ%3D%3D?line=13'>14</a>\u001b[0m         \u001b[39m\"\u001b[39;49m\u001b[39murl\u001b[39;49m\u001b[39m\"\u001b[39;49m: ln[\u001b[39m\"\u001b[39;49m\u001b[39murl\u001b[39;49m\u001b[39m\"\u001b[39;49m],\n\u001b[1;32m     <a href='vscode-notebook-cell:/Users/joshua.sheppard/PycharmProjects/retriever/retriver/ranker_retriever.ipynb#X15sZmlsZQ%3D%3D?line=14'>15</a>\u001b[0m     })\n\u001b[1;32m     <a href='vscode-notebook-cell:/Users/joshua.sheppard/PycharmProjects/retriever/retriver/ranker_retriever.ipynb#X15sZmlsZQ%3D%3D?line=16'>17</a>\u001b[0m     fout\u001b[39m.\u001b[39mwrite(\u001b[39m\"\u001b[39m\u001b[39m\\n\u001b[39;00m\u001b[39m\"\u001b[39m)\n\u001b[1;32m     <a href='vscode-notebook-cell:/Users/joshua.sheppard/PycharmProjects/retriever/retriver/ranker_retriever.ipynb#X15sZmlsZQ%3D%3D?line=18'>19</a>\u001b[0m fout\u001b[39m.\u001b[39mclose\n",
      "\u001b[0;31mTypeError\u001b[0m: write() argument must be str, not dict"
     ]
    }
   ],
   "source": [
    "def iter_data(dataset):\n",
    "    for i in dataset[\"train\"]:\n",
    "        yield i\n",
    "\n",
    "cc_news_data = iter_data(dataset=dataset)\n",
    "\n",
    "fout = open(\"../data/cc_news.jsonl\", \"w\")\n",
    "for ln in cc_news_data:\n",
    "    fout.write(json.dumps({\n",
    "        \"title\": ln[\"title\"],\n",
    "        \"text\": ln[\"text\"],\n",
    "        \"domain\": ln[\"domain\"],\n",
    "        \"date\": ln[\"date\"], \n",
    "        \"url\": ln[\"url\"],\n",
    "    }))\n",
    "    \n",
    "    fout.write(\"\\n\")\n",
    "\n",
    "fout.close\n"
   ]
  },
  {
   "cell_type": "code",
   "execution_count": 6,
   "metadata": {},
   "outputs": [
    {
     "data": {
      "text/plain": [
       "<generator object iter_data at 0x3fbe52420>"
      ]
     },
     "execution_count": 6,
     "metadata": {},
     "output_type": "execute_result"
    }
   ],
   "source": []
  },
  {
   "cell_type": "code",
   "execution_count": null,
   "metadata": {},
   "outputs": [],
   "source": []
  }
 ],
 "metadata": {
  "kernelspec": {
   "display_name": "Python 3.10.6 ('vs_env': venv)",
   "language": "python",
   "name": "python3"
  },
  "language_info": {
   "codemirror_mode": {
    "name": "ipython",
    "version": 3
   },
   "file_extension": ".py",
   "mimetype": "text/x-python",
   "name": "python",
   "nbconvert_exporter": "python",
   "pygments_lexer": "ipython3",
   "version": "3.10.6"
  },
  "orig_nbformat": 4,
  "vscode": {
   "interpreter": {
    "hash": "f570427228f404ca5e5bd69d7c4f81f4bbf047c681baf5cde3c9d0636c1aef27"
   }
  }
 },
 "nbformat": 4,
 "nbformat_minor": 2
}
