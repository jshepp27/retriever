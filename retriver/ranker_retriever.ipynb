{
 "cells": [
  {
   "cell_type": "code",
   "execution_count": 1,
   "metadata": {},
   "outputs": [
    {
     "data": {
      "text/plain": [
       "<Elasticsearch(['http://localhost:9200'])>"
      ]
     },
     "execution_count": 1,
     "metadata": {},
     "output_type": "execute_result"
    }
   ],
   "source": [
    "# TODOs: Operate DB Class\n",
    "# TODOs: Use SQLite\n",
    "# TODOs: Implement BM25\n",
    "\n",
    "from elasticsearch import Elasticsearch\n",
    "\n",
    "# INIT OBJECT\n",
    "\n",
    "PORT = \"http://localhost:9200\"\n",
    "INDEX_NAME = \"wiki_evidence\"\n",
    "errors_before_interrupt = 5\n",
    "refresh_index_after_insert = False\n",
    "max_insert_retries = 3\n",
    "yield_ok = False\n",
    "\n",
    "wiki_ev = Elasticsearch(\n",
    "    PORT,\n",
    "    #http_auth=(es_api_user, es_api_password)\n",
    "    retry_on_timeout=True,  # should timeout trigger a retry on different node?\n",
    ")\n",
    "\n",
    "wiki_ev.elastic_index = INDEX_NAME\n",
    "\n",
    "wiki_ev"
   ]
  },
  {
   "cell_type": "code",
   "execution_count": 93,
   "metadata": {},
   "outputs": [
    {
     "name": "stdout",
     "output_type": "stream",
     "text": [
      "[{'_index': 'wiki_evidence', '_id': 'c-vm3YIBFEOmg5hhpYrO', '_score': 18.119564, '_ignored': ['document.text.keyword'], '_source': {'document': {'id': '412023', 'title': 'Rahm Emanuel', 'text': '[Emanuel and his office were found guilty of breaking state law by withholding government emails by transferring them onto his personal phone., In March 2017 Chicago Tribune reported Emanuel released 2,696 emails he had previously withheld., In the emails there were found to be 26 possible violations of lobbying laws.]'}}}, {'_index': 'wiki_evidence', '_id': 's-7r3YIBFEOmg5hhZJex', '_score': 18.119564, '_ignored': ['document.text.keyword'], '_source': {'document': {'id': '412023', 'title': 'Rahm Emanuel', 'text': 'Emanuel and his office were found guilty of breaking state law by withholding government emails by transferring them onto his personal phone. In March 2017 Chicago Tribune reported Emanuel released 2,696 emails he had previously withheld. In the emails there were found to be 26 possible violations of lobbying laws.'}}}, {'_index': 'wiki_evidence', '_id': 'A-_s3YIBFEOmg5hhr1th', '_score': 18.119564, '_ignored': ['document.text.keyword'], '_source': {'document': {'id': '412023', 'title': 'Rahm Emanuel', 'text': 'Emanuel and his office were found guilty of breaking state law by withholding government emails by transferring them onto his personal phone. In March 2017 Chicago Tribune reported Emanuel released 2,696 emails he had previously withheld. In the emails there were found to be 26 possible violations of lobbying laws.'}}}, {'_index': 'wiki_evidence', '_id': '6K_83oIBFEOmg5hhaAB9', '_score': 17.628613, '_ignored': ['document.text.keyword'], '_source': {'document': {'id': '2206839', 'title': 'Diego Arria', 'text': 'However, the defendants hired Kivu, a US-based cybersecurity company, with Kivu performing an analysis of the alleged emails covered in the Venezuelan government\\'s report, stating that there was \"no evidence of the existence of any emails between Pedro Burelli\\'s Google email accounts and the alleged recipients,\" that the alleged emails had \"many indications of user manipulation,\" and that \"Venezuelan officials used forged emails to accuse government adversaries of plotting to kill President Nicolas Maduro.\"'}}}, {'_index': 'wiki_evidence', '_id': 'aJzi3oIBFEOmg5hhe7GT', '_score': 17.628613, '_ignored': ['document.text.keyword'], '_source': {'document': {'id': '2206839', 'title': 'Diego Arria', 'text': '[However, the defendants hired Kivu, a US-based cybersecurity company, with Kivu performing an analysis of the alleged emails covered in the Venezuelan government\\'s report, stating that there was \"no evidence of the existence of any emails between Pedro Burelli\\'s Google email accounts and the alleged recipients,\" that the alleged emails had \"many indications of user manipulation,\" and that \"Venezuelan officials used forged emails to accuse government adversaries of plotting to kill President Nicolas Maduro.\"]'}}}, {'_index': 'wiki_evidence', '_id': 'kK_93oIBFEOmg5hhhWJ_', '_score': 17.628613, '_ignored': ['document.text.keyword'], '_source': {'document': {'id': '2206839', 'title': 'Diego Arria', 'text': 'However, the defendants hired Kivu, a US-based cybersecurity company, with Kivu performing an analysis of the alleged emails covered in the Venezuelan government\\'s report, stating that there was \"no evidence of the existence of any emails between Pedro Burelli\\'s Google email accounts and the alleged recipients,\" that the alleged emails had \"many indications of user manipulation,\" and that \"Venezuelan officials used forged emails to accuse government adversaries of plotting to kill President Nicolas Maduro.\"'}}}, {'_index': 'wiki_evidence', '_id': '56_83oIBFEOmg5hhaAB9', '_score': 17.01923, '_ignored': ['document.text.keyword'], '_source': {'document': {'id': '2206839', 'title': 'Diego Arria', 'text': 'A top Venezuelan government official, Jorge Rodriguez, alleged that he had uncovered emails between the accused that proved their guilt, resulting in Venezuela\\'s attorney general Luisa Ortega Díaz subpoenaing Arria as a witness, along with María Corina Machado, Pedro Burelli, and Ricardo Koesling, and a week later, on June 11, warrants were issued for their arrest. However, the defendants hired Kivu, a US-based cybersecurity company, with Kivu performing an analysis of the alleged emails covered in the Venezuelan government\\'s report, stating that there was \"no evidence of the existence of any emails between Pedro Burelli\\'s Google email accounts and the alleged recipients,\" that the alleged emails had \"many indications of user manipulation,\" and that \"Venezuelan officials used forged emails to accuse government adversaries of plotting to kill President Nicolas Maduro.\"'}}}, {'_index': 'wiki_evidence', '_id': 'Z5zi3oIBFEOmg5hhe7GT', '_score': 17.01923, '_ignored': ['document.text.keyword'], '_source': {'document': {'id': '2206839', 'title': 'Diego Arria', 'text': '[A top Venezuelan government official, Jorge Rodriguez, alleged that he had uncovered emails between the accused that proved their guilt, resulting in Venezuela\\'s attorney general Luisa Ortega Díaz subpoenaing Arria as a witness, along with María Corina Machado, Pedro Burelli, and Ricardo Koesling, and a week later, on June 11, warrants were issued for their arrest., However, the defendants hired Kivu, a US-based cybersecurity company, with Kivu performing an analysis of the alleged emails covered in the Venezuelan government\\'s report, stating that there was \"no evidence of the existence of any emails between Pedro Burelli\\'s Google email accounts and the alleged recipients,\" that the alleged emails had \"many indications of user manipulation,\" and that \"Venezuelan officials used forged emails to accuse government adversaries of plotting to kill President Nicolas Maduro.\"]'}}}, {'_index': 'wiki_evidence', '_id': 'j6_93oIBFEOmg5hhhWJ_', '_score': 17.01923, '_ignored': ['document.text.keyword'], '_source': {'document': {'id': '2206839', 'title': 'Diego Arria', 'text': 'A top Venezuelan government official, Jorge Rodriguez, alleged that he had uncovered emails between the accused that proved their guilt, resulting in Venezuela\\'s attorney general Luisa Ortega Díaz subpoenaing Arria as a witness, along with María Corina Machado, Pedro Burelli, and Ricardo Koesling, and a week later, on June 11, warrants were issued for their arrest. However, the defendants hired Kivu, a US-based cybersecurity company, with Kivu performing an analysis of the alleged emails covered in the Venezuelan government\\'s report, stating that there was \"no evidence of the existence of any emails between Pedro Burelli\\'s Google email accounts and the alleged recipients,\" that the alleged emails had \"many indications of user manipulation,\" and that \"Venezuelan officials used forged emails to accuse government adversaries of plotting to kill President Nicolas Maduro.\"'}}}, {'_index': 'wiki_evidence', '_id': '5q_83oIBFEOmg5hhaAB9', '_score': 16.864418, '_ignored': ['document.text.keyword'], '_source': {'document': {'id': '2206839', 'title': 'Diego Arria', 'text': 'Diego Arria and several other opposition figures were the victims of an attempt by the Venezuelan government to accuse them of a fabricated plot. A top Venezuelan government official, Jorge Rodriguez, alleged that he had uncovered emails between the accused that proved their guilt, resulting in Venezuela\\'s attorney general Luisa Ortega Díaz subpoenaing Arria as a witness, along with María Corina Machado, Pedro Burelli, and Ricardo Koesling, and a week later, on June 11, warrants were issued for their arrest. However, the defendants hired Kivu, a US-based cybersecurity company, with Kivu performing an analysis of the alleged emails covered in the Venezuelan government\\'s report, stating that there was \"no evidence of the existence of any emails between Pedro Burelli\\'s Google email accounts and the alleged recipients,\" that the alleged emails had \"many indications of user manipulation,\" and that \"Venezuelan officials used forged emails to accuse government adversaries of plotting to kill President Nicolas Maduro.\"'}}}]\n"
     ]
    }
   ],
   "source": [
    "def search_text(es, query_, k=5):\n",
    "    results = es.search(\n",
    "        index = es.elastic_index,\n",
    "        query = {\n",
    "            \"match\": {\n",
    "                \"document.text\": query_,\n",
    "                },\n",
    "        },\n",
    "        size=k)\n",
    "\n",
    "    hits = results[\"hits\"][\"hits\"]\n",
    "    doc_ids = [row['_source'][\"document\"][\"id\"] for row in hits]\n",
    "    \n",
    "    # res_ = []\n",
    "    # for i in hits:\n",
    "    #     res_.append({\n",
    "    #         \"title\": i[\"_source\"][\"document\"][\"title\"],\n",
    "    #         \"text\": i[\"_source\"][\"document\"][\"text\"]\n",
    "    #     })\n",
    "\n",
    "    # title = hits[0][\"_source\"][\"document\"][\"title\"]\n",
    "    # text = hits[0][\"_source\"][\"document\"][\"text\"]\n",
    "\n",
    "    # return {\n",
    "    #     \"title\": title,\n",
    "    #     \"text\": text\n",
    "    # }\n",
    "\n",
    "    return hits\n",
    "\n",
    "def search_topic(es, topic, k=5):\n",
    "    results = es.search(\n",
    "        index = es.elastic_index,\n",
    "        body= {\n",
    "            \"size\": k,\n",
    "            \"query\": {\n",
    "                \"match\": {\n",
    "                    \"document.title\": topic,\n",
    "        }}})\n",
    "\n",
    "    hits = results[\"hits\"][\"hits\"]\n",
    "    doc_ids = [row['_source'][\"document\"][\"id\"] for row in hits]\n",
    "\n",
    "    title = hits[0][\"_source\"][\"document\"][\"title\"]\n",
    "    text = hits[0][\"_source\"][\"document\"][\"text\"]\n",
    "\n",
    "    return {\n",
    "        \"title\": title,\n",
    "        \"text\": text\n",
    "    }\n",
    "\n",
    "query = \"government emails\"\n",
    "\n",
    "text = search_text(wiki_ev, query_=query, k=10)\n",
    "\n",
    "print(text)\n"
   ]
  },
  {
   "cell_type": "code",
   "execution_count": 33,
   "metadata": {},
   "outputs": [],
   "source": [
    "import json\n",
    "\n",
    "data = [json.loads(ln) for ln in open(\"../data/train_cmv_cleaned.jsonl\")]\n",
    "kp = [json.loads(ln) for ln in open(\"../data/keyphrases.jsonl\")]\n"
   ]
  },
  {
   "cell_type": "code",
   "execution_count": 36,
   "metadata": {},
   "outputs": [],
   "source": [
    "sample_args = data[0:5]\n",
    "sample_kp = kp[0:5]"
   ]
  },
  {
   "cell_type": "code",
   "execution_count": 125,
   "metadata": {},
   "outputs": [
    {
     "data": {
      "text/plain": [
       "['She cries when they leave., How heartless are we to call somebody like Terri Schiavo a vegetable?, What are we thinking?When we think about this case, we need to think about the message that we are sending to our children and our grandchildren.She cries when they leave. How heartless are we to call somebody like Terri Schiavo a vegetable? What are we thinking?When we think about this case, we need to think about the message that we are sending to our children and our grandchildren.She cries when they leave. How heartless are we to call somebody like Terri Schiavo a vegetable? What are we thinking?When we think about this case, we need to think about the message that we are sending to our children and our grandchildren.How heartless are we to call somebody like Terri Schiavo a vegetable?, What are we thinking?When we think about this case, we need to think about the message that we are sending to our children and our grandchildren., What we do in this Chamber tonight is as important as anything we have done in defending our Nation, in doing the things that we do as Members of Congress.How heartless are we to call somebody like Terri Schiavo a vegetable? What are we thinking?When we think about this case, we need to think about the message that we are sending to our children and our grandchildren. What we do in this Chamber tonight is as important as anything we have done in defending our Nation, in doing the things that we do as Members of Congress.',\n",
       " 'There were renewed and stronger calls for a dictator., However, in the \"Life of Cato\", Plutarch did not mention any calls for a dictator and, instead, he wrote that there were calls for Pompey to preside over the elections, which Cato the Younger opposed., In both versions, the violence among the three factions continued and the elections could not be held.There were renewed and stronger calls for a dictator. However, in the \"Life of Cato\", Plutarch did not mention any calls for a dictator and, instead, he wrote that there were calls for Pompey to preside over the elections, which Cato the Younger opposed. In both versions, the violence among the three factions continued and the elections could not be held.There were renewed and stronger calls for a dictator. However, in the \"Life of Cato\", Plutarch did not mention any calls for a dictator and, instead, he wrote that there were calls for Pompey to preside over the elections, which Cato the Younger opposed. In both versions, the violence among the three factions continued and the elections could not be held.History. In recent years, TUAC has focused on the response to the economic crisis, stressing the need for anti-crisis policies that stimulate growth and protect and create jobs, together with stronger regulation of the financial sector. TUAC calls for a paradigm shift in the underlying economic model so as to deliver a stronger global economy that reduces income inequality.History., In recent years, TUAC has focused on the response to the economic crisis, stressing the need for anti-crisis policies that stimulate growth and protect and create jobs, together with stronger regulation of the financial sector., TUAC calls for a paradigm shift in the underlying economic model so as to deliver a stronger global economy that reduces income inequality.',\n",
       " \"They cannot walk, so they pull hand-over-hand to move around, which is at an extremely slow rate., Being predominantly nocturnal, their fur, which grows greenish algae to blend in, is their main source of protection., Their body temperatures depend at least partially on the ambient temperature; they cannot shiver to keep warm, as other mammals do, because of their unusually low metabolic rates and reduced musculature.They cannot walk, so they pull hand-over-hand to move around, which is at an extremely slow rate. Being predominantly nocturnal, their fur, which grows greenish algae to blend in, is their main source of protection. Their body temperatures depend at least partially on the ambient temperature; they cannot shiver to keep warm, as other mammals do, because of their unusually low metabolic rates and reduced musculature.They cannot walk, so they pull hand-over-hand to move around, which is at an extremely slow rate. Being predominantly nocturnal, their fur, which grows greenish algae to blend in, is their main source of protection. Their body temperatures depend at least partially on the ambient temperature; they cannot shiver to keep warm, as other mammals do, because of their unusually low metabolic rates and reduced musculature.Ethiopia is one of the African countries that attracted foreign investors in agricultural land investment., However, these land investments has led to widespread displacement of the local people and massive human right violations., The government leased these lands to foreign investors by displacing small scale land holders, pastoralists and other indigenous people, who depend on land for their survival.They claim that the use of surgical masks reminds the police of recent protesters, impeding police's enforcement of law and causing conflict inside government institutions., On 17 August, a pro-government rally organised by the Safeguard Hong Kong Alliance occurred in Tamar Park., Organisers said 476,000 people including pro-government politicians and business leaders joined the demonstration, but police stated only 108,000 attended.\",\n",
       " '\"I was never invited to the party anyway—so I started my own party.\", Too many people outside yoga, she believes, see it as \"something Jennifer Aniston does.\", Fonda has praised \"her ability to make yoga accessible to people who might be scared of it or think it might be too esoteric.\"\"I was never invited to the party anyway—so I started my own party.\" Too many people outside yoga, she believes, see it as \"something Jennifer Aniston does.\" Fonda has praised \"her ability to make yoga accessible to people who might be scared of it or think it might be too esoteric.\"\"I was never invited to the party anyway—so I started my own party.\" Too many people outside yoga, she believes, see it as \"something Jennifer Aniston does.\" Fonda has praised \"her ability to make yoga accessible to people who might be scared of it or think it might be too esoteric.\"He was asked whether he would allow a play to be staged in which sexual intercourse was represented on the stage, and replied: \"Well, I think so, certainly., I doubt if there are any rational people to whom the word \\'fuck\\' would be particularly diabolical, revolting or totally forbidden., I think that anything which can be printed or said can also be seen.\"He was asked whether he would allow a play to be staged in which sexual intercourse was represented on the stage, and replied: \"Well, I think so, certainly. I doubt if there are any rational people to whom the word \\'fuck\\' would be particularly diabolical, revolting or totally forbidden. I think that anything which can be printed or said can also be seen.\"',\n",
       " 'Laws on carrying a sword. The Visigothic Code of Ervig (680-687) made ownership of a sword mandatory for men joining the Visigothic army, regardless whether the men were Goth or Roman. A number of Charlemagne capitularies made ownership of a sword mandatory, for example, those who owned a warehouse needed to also own a sword.Laws on carrying a sword. The Visigothic Code of Ervig (680-687) made ownership of a sword mandatory for men joining the Visigothic army, regardless whether the men were Goth or Roman. A number of Charlemagne capitularies made ownership of a sword mandatory, for example, those who owned a warehouse needed to also own a sword.Laws on carrying a sword., The Visigothic Code of Ervig (680-687) made ownership of a sword mandatory for men joining the Visigothic army, regardless whether the men were Goth or Roman., A number of Charlemagne capitularies made ownership of a sword mandatory, for example, those who owned a warehouse needed to also own a sword.These should not be confused with a longsword, two-handed sword, or Zweihänder, which were always intended to be used with two hands. Laws on carrying a sword. The Visigothic Code of Ervig (680-687) made ownership of a sword mandatory for men joining the Visigothic army, regardless whether the men were Goth or Roman.These should not be confused with a longsword, two-handed sword, or Zweihänder, which were always intended to be used with two hands. Laws on carrying a sword. The Visigothic Code of Ervig (680-687) made ownership of a sword mandatory for men joining the Visigothic army, regardless whether the men were Goth or Roman.',\n",
       " \"Joseph Schumpeter rejected the association of socialism and social ownership with state ownership over the means of production because the state as it exists in its current form is a product of capitalist society and cannot be transplanted to a different institutional framework., Schumpeter argued that there would be different institutions within socialism than those that exist within modern capitalism, just as feudalism had its own distinct and unique institutional forms., The state, along with concepts like property and taxation, were concepts exclusive to commercial society (capitalism) and attempting to place them within the context of a future socialist society would amount to a distortion of these concepts by using them out of context.Joseph Schumpeter rejected the association of socialism and social ownership with state ownership over the means of production because the state as it exists in its current form is a product of capitalist society and cannot be transplanted to a different institutional framework. Schumpeter argued that there would be different institutions within socialism than those that exist within modern capitalism, just as feudalism had its own distinct and unique institutional forms. The state, along with concepts like property and taxation, were concepts exclusive to commercial society (capitalism) and attempting to place them within the context of a future socialist society would amount to a distortion of these concepts by using them out of context.Joseph Schumpeter rejected the association of socialism and social ownership with state ownership over the means of production because the state as it exists in its current form is a product of capitalist society and cannot be transplanted to a different institutional framework. Schumpeter argued that there would be different institutions within socialism than those that exist within modern capitalism, just as feudalism had its own distinct and unique institutional forms. The state, along with concepts like property and taxation, were concepts exclusive to commercial society (capitalism) and attempting to place them within the context of a future socialist society would amount to a distortion of these concepts by using them out of context.To prevent damage to the trucks during firing cast-steel wedges were placed on the railroad ties under matching wedges on the car and the car was moved up on them., Some sources quote its maximum elevation as 47.5°, but Miller says that the sight on the gun itself was only calibrated to 45°., If more traverse was needed the gun's original firing platform was carried on a separate car and the gun could be dismounted to use it.To prevent damage to the trucks during firing cast-steel wedges were placed on the railroad ties under matching wedges on the car and the car was moved up on them. Some sources quote its maximum elevation as 47.5°, but Miller says that the sight on the gun itself was only calibrated to 45°. If more traverse was needed the gun's original firing platform was carried on a separate car and the gun could be dismounted to use it.\",\n",
       " 'Sometimes as part of a SWAT team, police snipers are deployed alongside negotiators and an assault team trained for close quarters combat. As policemen, they are trained to shoot only as a last resort, when there is a direct threat to life; the police sharpshooter has a well-known rule: \"Be prepared to take a life to save a life.\" Police snipers typically operate at much shorter ranges than military snipers, generally under and sometimes even less than .Sometimes as part of a SWAT team, police snipers are deployed alongside negotiators and an assault team trained for close quarters combat. As policemen, they are trained to shoot only as a last resort, when there is a direct threat to life; the police sharpshooter has a well-known rule: \"Be prepared to take a life to save a life.\" Police snipers typically operate at much shorter ranges than military snipers, generally under and sometimes even less than .Sometimes as part of a SWAT team, police snipers are deployed alongside negotiators and an assault team trained for close quarters combat., As policemen, they are trained to shoot only as a last resort, when there is a direct threat to life; the police sharpshooter has a well-known rule: \"Be prepared to take a life to save a life.\", Police snipers typically operate at much shorter ranges than military snipers, generally under and sometimes even less than .Between 11:00 p.m and 12:30 a.m, a group of Muslim youths also formed a human chain around the local temple near DJ Halli station to protect it in case of any escalation., According to a later testimony from the police, that fortunately \"the riots did not snowball into a communal riot\"., Eventually the Karnataka State Reserve Police (KSRP) had to be called in to disperse the crowd and free the policemen trapped inside the station.Between 11:00 p.m and 12:30 a.m, a group of Muslim youths also formed a human chain around the local temple near DJ Halli station to protect it in case of any escalation. According to a later testimony from the police, that fortunately \"the riots did not snowball into a communal riot\". Eventually the Karnataka State Reserve Police (KSRP) had to be called in to disperse the crowd and free the policemen trapped inside the station.',\n",
       " 'You\\'re not going to change my view on the issue, as a father of 12. \"Funds from DeLay\\'s PAC. Renzi also received $30,000 in campaign contributions from former House Majority Leader Tom DeLay\\'s ARMPAC.Indictment and conviction.You\\'re not going to change my view on the issue, as a father of 12. \"Funds from DeLay\\'s PAC. Renzi also received $30,000 in campaign contributions from former House Majority Leader Tom DeLay\\'s ARMPAC.Indictment and conviction.You\\'re not going to change my view on the issue, as a father of 12., \"Funds from DeLay\\'s PAC., Renzi also received $30,000 in campaign contributions from former House Majority Leader Tom DeLay\\'s ARMPAC.Indictment and conviction.The newspaper quoted Kerwineo\\'s view on their own gender and identity: \"I had really become a man and imagined that the woman in me had perished with my years of change. ., . ., We will pass over that part of my life where I became infatuated with another woman and married her.That would change my calculus. That would change my equation. \"Nuclear weapons on surface ships.',\n",
       " 'McGwire responded by saying, \"I am here to talk about the future, not about the past.\" The exchange came to epitomize the entire inquiry. Legislation.McGwire responded by saying, \"I am here to talk about the future, not about the past.\" The exchange came to epitomize the entire inquiry. Legislation.McGwire responded by saying, \"I am here to talk about the future, not about the past.\", The exchange came to epitomize the entire inquiry., Legislation.Selected quotes., I am happy to be here, on Law Day, to talk with you about human trafficking., For the past few years I have been calling human trafficking ... a contemporary form of slavery.Selected quotes. I am happy to be here, on Law Day, to talk with you about human trafficking. For the past few years I have been calling human trafficking ... a contemporary form of slavery.']"
      ]
     },
     "execution_count": 125,
     "metadata": {},
     "output_type": "execute_result"
    }
   ],
   "source": [
    "### USING TOPIC SIGNATURES ###\n",
    "import spacy\n",
    "import re\n",
    "\n",
    "# For each query, the top 20 passages ranked by BM25 (Robertson et al., 1995) are retained, per medium. \n",
    "# All passages retrieved for the input statement are merged and deduplicated, and they will be ranked as discussed in § 6.3.3.\n",
    "\n",
    "# TODOs: Sentential Arguments Segments\n",
    "# TODOs: Top-20 passages\n",
    "# TODOs: Merge\n",
    "\n",
    "nlp = spacy.load(\"en_core_web_sm\")\n",
    "\n",
    "it_ = 2\n",
    "\n",
    "arg = sample_args[it_]\n",
    "kp = sample_kp[it_]\n",
    "kp = kp[\"keyphrase\"][0]\n",
    "\n",
    "\n",
    "ar_ = arg[\"arguments\"]\n",
    "ar_ = nlp(ar_)\n",
    "\n",
    "\n",
    "results = []\n",
    "count = 0\n",
    "for sent in ar_.sents:\n",
    "    count += 1\n",
    "\n",
    "    kp = str(sent).lower()\n",
    "    res = search_text(wiki_ev, query_=kp, k=5)\n",
    "\n",
    "    res_ = \"\".join(re.sub(r'\\[\\[(?:[^|\\]]*\\|)?([^\\]]*)]]', \"\", i[\"_source\"][\"document\"][\"text\"]).strip(\"[]\") for i in res)\n",
    "    results.append(res_)\n",
    "\n",
    "\n",
    "results"
   ]
  },
  {
   "cell_type": "code",
   "execution_count": null,
   "metadata": {},
   "outputs": [],
   "source": []
  }
 ],
 "metadata": {
  "kernelspec": {
   "display_name": "Python 3.8.9 64-bit",
   "language": "python",
   "name": "python3"
  },
  "language_info": {
   "name": "python",
   "version": "3.8.9"
  },
  "orig_nbformat": 4,
  "vscode": {
   "interpreter": {
    "hash": "31f2aee4e71d21fbe5cf8b01ff0e069b9275f58929596ceb00d14d90e3e16cd6"
   }
  }
 },
 "nbformat": 4,
 "nbformat_minor": 2
}
