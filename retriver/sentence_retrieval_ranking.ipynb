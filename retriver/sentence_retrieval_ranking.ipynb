{
 "cells": [
  {
   "cell_type": "code",
   "execution_count": 1,
   "metadata": {
    "collapsed": true
   },
   "outputs": [],
   "source": [
    "# Query\n",
    "# TODO: Search on Topic Signatures\n",
    "# TODO: Search on Keyphrases\n",
    "# TODO: Search on Noun-Verb Keyphrases\n",
    "# TODO: Return k=5 highest\n",
    "\n",
    "# Ranking\n",
    "# TODO: Review DrQA\n",
    "# TODO: Segment Articles into Paragraphs\n",
    "# TODO: Segment Evidence Paragraphs into Sentences\n",
    "# TODO: Re-rank according to TF-IDF\n",
    "# TODO: Retain top k=10 Sentences as the evidence set"
   ]
  },
  {
   "cell_type": "code",
   "execution_count": 170,
   "metadata": {
    "collapsed": false,
    "pycharm": {
     "name": "#%%\n"
    }
   },
   "outputs": [],
   "source": [
    "# DONE: Get Post\n",
    "# DONE: Get Topic Signature\n",
    "# DONE: Parse the full arguments, not the titles\n",
    "\n",
    "import json\n",
    "\n",
    "args = [json.loads(ln)[\"arguments\"] for ln in open(\"./data/train_cmv_cleaned.jsonl\")][0:10]\n",
    "signatures = [json.loads(ln)[\"ratio_ranked_words\"][0:3] for ln in open(\"./data/topic_signatures.jsonl\")][0:10]"
   ]
  },
  {
   "cell_type": "code",
   "execution_count": 171,
   "metadata": {
    "collapsed": false,
    "pycharm": {
     "name": "#%%\n"
    }
   },
   "outputs": [
    {
     "data": {
      "text/plain": [
       "['I cant remember the topic that spurred this discussion but a friend and I were debating whether manmade things were natural. He took the position that they are unnatural. He cited this definition by MerriamWebster existing in nature and not made or caused by people coming from nature as his basis for the distinction for natural vs. unnatural.However I respectfully disagree with his position and furthermore that definition of natural. People arise from nature. Humankinds capacity to create problemsolve analyze rationalize and build also come from natural processes. How are the things we create unnatural? It is only through natural occurrences that we have this ability why is it that we would give the credit of these things solely to man as opposed to nature? We are not separate from nature thus how can any of our actions or creations be unnatural? If we were somehow separate from nature I would understand the distinction between natural and manmade. However I think unnatural and manmade are not synonyms by any means. It seems to me that manmade things MUST be natural due to our being part of nature. I would love to hear your arguments and to have my view changed if I am mistaken in my logic somewhere along the line.',\n",
       " 'My wife has recently gotten deeply involvedobsessed with the healing properties of essential oils. I am cursed with a common problem in that I am an extremely skeptical person. I cant help but look at this product and see a pyramid scheme that takes advantage of the gullible. All the shit my wife watches on these oils is carefully worded to make sure they dont make actual healing claims Im told this is because they arent FDA approved and could get in trouble. Ive looked a little and havent found anything debunking these oils but i still cannot help but feel they are total BS. I would love to get more information from unbiased sources on this. Please change my view without just anecdotal testimonies.',\n",
       " 'Thinking about todays news BBC WikipediaI think France is in a tough spot in how to react to this. There would be even stronger calls for an antiislam and antiimmigration policies. These event reminds people that they cannot depend on protection by government. I think it would be a shame to allow the many who are afraid more then anything to be swayed by xenophobic nationalists which might have been the goal of the attack anyway. I think this regardless of whether the weapons used by the attackers were owned legally makes a good case for promoting a culture of a reasonable gun ownership and carrying. Say if out of people carried a gun with them was well trained in its use and tested in his responsibility to prevent its misuse and society upheld the value of these people as protectors it would benefit the society more the the current state of legislature and culture of gun ownership in most of European countries. I also think this would be much better then increase in police numbers and rights as policemen are a very homogeneous group trained to stick together and the danger of even deepening the not one of us pack mentality and escalation of police state.Change my view.PS I am not here to talk about USA and its gun problems.',\n",
       " 'Ive been thinking about this issue for a while. The sentence in the title is an oversimplification of the view but Ill elaborate more here. Technically its a twopart view Explaining causation is not blaming the victim. Explaining causation is a worthwhile endeavor.Id be happy to have either view changed though if view is changed Id probably change my mind on view . Itll be easier to change my mind in other words about view than view Im not certain that its a worthwhile endeavor.Let me start off by saying that I understand the issues with victim blaming. Theres an unfortunate tendency that Ive noticed particularly on the Internet but occasionally in person as well to blame the victims of terrible situations. Were seeing it with responses to the police murders of black citizens people trying to find a reason why the person was shot and we see it with victims of rape people say you shouldnt have been so drunk or you shouldnt have been in that area of town. There are all sorts of possible explanations as to why victim blaming occurs one of the most convincing to me is that these occurrences cause a sort of cognitive dissonance in our minds where bad things happen to people who dont deserve it. We like to think of our world as just in some way so we come up with reasons why these people Deserved what they got. People rarely go so far as to say a woman deserved to be raped but theres a certain amount of otherization and lack of empathy that goes on a sense that well that wouldnt have happened to me because I wouldve been more careful. Additionally it blames the victim for something that you should be blaming the perpetrator for. And thats all bad.On the other hand it remains the case that the world is not a just place. Yes we can work towards justice we can work towards eliminating racism overt or structural and we can work towards a society in which women feel safer. And we absolutely should. In the meantime however it is important to understand lines of causation. Im not going with a very complicated definition of causation here basically a model in which two events or situations occur A and B and one event B would not have occurred the other A had not occurred. A caused B. Im aware there are logical or philosophical arguments against this model but thats not the view Im trying to have changed if you can make a compelling argument about the relevant views using those points go ahead.The case I often think of concerns myself and friends of mine. I live in a large city. It is safe for the most part but there are certain areas that you shouldnt walk in at night because you might get mugged. Both myself and a friend of mine have been mugged while walking through these areas. The causation is if we hadnt been walking through those areas we wouldnt have gotten mugged. So we dont walk through those areas at night anymore. Its still possible that well get mugged elsewhere but in my mind weve decreased our chances which is a good thing. We didnt deserve to get mugged before but changing our behavior prevented us from getting mugged again.Thus explaining causation is not justification. Its simply understanding the chain of events that led to another event.Finally my second view is that its a worthwhile endeavor. As I said we avoid those dangerous areas at night now and I feel weve decreased our chances of getting mugged. We understood the causation behind a negative situation and we changed our behavior accordingly. Ideally all areas would be safe to walk in but theyre not so we dont walk in the unsafe areas anymore. Yes this has mildly restricted our behavior but its worth it to us so that we dont get mugged. I understood these are hairy issues and maybe theres a fine line between causation and justification. .As far as part of my view goes I still stand by my original statement. Granted people have pointed out inconsistencies in the term causation but as I said Im not really trying to have a discussion about causation as a concept. I understand that its very complex and of course many factors go into a certain outcome. I am well aware of probabilistic models of eventsoutcomes my point was never to say that avoid certain areas means you wont get mugged or something like that. It concerned a marginal decrease of risk a change in probability. Furthermore the point itself was actually that explaining causation is not victim blaming and this view has not been addressed sufficiently. Ive changed my view to the point that I dont think explaining causation is always the appropriate response particularly in traumatic cases like sexual assault. I do still think its often important to explain causation before the fact as some users have suggested as an alternative simply to give people a good idea of what precautions they might want to take. Most specifically no one has really addressed this notion of causation vs. justification. One person has said theyre the same thing but not really offered an explanation for that. At any rate Ive enjoyed reading the responses so far Im aware this is a sensitive issue and Im glad discussions have remained pretty civil.',\n",
       " 'Ive been thinking about this issue for a while. The sentence in the title is an oversimplification of the view but Ill elaborate more here. Technically its a twopart view Explaining causation is not blaming the victim. Explaining causation is a worthwhile endeavor.Id be happy to have either view changed though if view is changed Id probably change my mind on view . Itll be easier to change my mind in other words about view than view Im not certain that its a worthwhile endeavor.Let me start off by saying that I understand the issues with victim blaming. Theres an unfortunate tendency that Ive noticed particularly on the Internet but occasionally in person as well to blame the victims of terrible situations. Were seeing it with responses to the police murders of black citizens people trying to find a reason why the person was shot and we see it with victims of rape people say you shouldnt have been so drunk or you shouldnt have been in that area of town. There are all sorts of possible explanations as to why victim blaming occurs one of the most convincing to me is that these occurrences cause a sort of cognitive dissonance in our minds where bad things happen to people who dont deserve it. We like to think of our world as just in some way so we come up with reasons why these people Deserved what they got. People rarely go so far as to say a woman deserved to be raped but theres a certain amount of otherization and lack of empathy that goes on a sense that well that wouldnt have happened to me because I wouldve been more careful. Additionally it blames the victim for something that you should be blaming the perpetrator for. And thats all bad.On the other hand it remains the case that the world is not a just place. Yes we can work towards justice we can work towards eliminating racism overt or structural and we can work towards a society in which women feel safer. And we absolutely should. In the meantime however it is important to understand lines of causation. Im not going with a very complicated definition of causation here basically a model in which two events or situations occur A and B and one event B would not have occurred the other A had not occurred. A caused B. Im aware there are logical or philosophical arguments against this model but thats not the view Im trying to have changed if you can make a compelling argument about the relevant views using those points go ahead.The case I often think of concerns myself and friends of mine. I live in a large city. It is safe for the most part but there are certain areas that you shouldnt walk in at night because you might get mugged. Both myself and a friend of mine have been mugged while walking through these areas. The causation is if we hadnt been walking through those areas we wouldnt have gotten mugged. So we dont walk through those areas at night anymore. Its still possible that well get mugged elsewhere but in my mind weve decreased our chances which is a good thing. We didnt deserve to get mugged before but changing our behavior prevented us from getting mugged again.Thus explaining causation is not justification. Its simply understanding the chain of events that led to another event.Finally my second view is that its a worthwhile endeavor. As I said we avoid those dangerous areas at night now and I feel weve decreased our chances of getting mugged. We understood the causation behind a negative situation and we changed our behavior accordingly. Ideally all areas would be safe to walk in but theyre not so we dont walk in the unsafe areas anymore. Yes this has mildly restricted our behavior but its worth it to us so that we dont get mugged. I understood these are hairy issues and maybe theres a fine line between causation and justification. .As far as part of my view goes I still stand by my original statement. Granted people have pointed out inconsistencies in the term causation but as I said Im not really trying to have a discussion about causation as a concept. I understand that its very complex and of course many factors go into a certain outcome. I am well aware of probabilistic models of eventsoutcomes my point was never to say that avoid certain areas means you wont get mugged or something like that. It concerned a marginal decrease of risk a change in probability. Furthermore the point itself was actually that explaining causation is not victim blaming and this view has not been addressed sufficiently. Ive changed my view to the point that I dont think explaining causation is always the appropriate response particularly in traumatic cases like sexual assault. I do still think its often important to explain causation before the fact as some users have suggested as an alternative simply to give people a good idea of what precautions they might want to take. Most specifically no one has really addressed this notion of causation vs. justification. One person has said theyre the same thing but not really offered an explanation for that. At any rate Ive enjoyed reading the responses so far Im aware this is a sensitive issue and Im glad discussions have remained pretty civil.',\n",
       " 'As an independent form of study philosophy doesnt seem to have any practical applications. What value does philosophy have in the modern age right now aside from contemplating things. Is it truly worth it to invest a significant amount of time and money studying this field? There do not seem to be any tangible applications or appreciable benefits from studying philosophy aside from personal growth and the expansion of ones intellectual perspective which I argue can be gained without studying philosophy in a rigorously academic manner. I often have read the argument that it is impossible to argue that philosophy is useless without using philosophy or something along those lines.I acknowledge this. Yes I am engaging in the use of philosophy right now at this very moment. However this does not provide an argument as to why it would be worthwhile to STUDY philosophy. What do you gain from studying philosophy that could not be gained from thoughtful introspection? Certainly important tools have originated from philosophical study such as the scientific method and science could be described as a subset of philosophy itself but that isnt an argument against the lack of tangible benefits to be gained from studying philosophy.You dont need to study philosophy to become a capable scientist. You shouldnt need to study philosophy to cultivate a reasonable set of moral principles or to be thoughtful about the circumstances and situations you encounter in your life.',\n",
       " 'As an independent form of study philosophy doesnt seem to have any practical applications. What value does philosophy have in the modern age right now aside from contemplating things. Is it truly worth it to invest a significant amount of time and money studying this field? There do not seem to be any tangible applications or appreciable benefits from studying philosophy aside from personal growth and the expansion of ones intellectual perspective which I argue can be gained without studying philosophy in a rigorously academic manner. I often have read the argument that it is impossible to argue that philosophy is useless without using philosophy or something along those lines.I acknowledge this. Yes I am engaging in the use of philosophy right now at this very moment. However this does not provide an argument as to why it would be worthwhile to STUDY philosophy. What do you gain from studying philosophy that could not be gained from thoughtful introspection? Certainly important tools have originated from philosophical study such as the scientific method and science could be described as a subset of philosophy itself but that isnt an argument against the lack of tangible benefits to be gained from studying philosophy.You dont need to study philosophy to become a capable scientist. You shouldnt need to study philosophy to cultivate a reasonable set of moral principles or to be thoughtful about the circumstances and situations you encounter in your life.',\n",
       " 'In the last few weeks weve had two huge events happen in the world both of which were caused by matters relating to freedom of speech. The first being the hacking of Sony over The Interview and today the shooting at the offices of a satirical magazine in Paris. I certainly value our free speech but to me there is a clear line between exercising your first amendment right President Obama sucks! etc and doing things that are known to be offensive to other cultures Satirical cartoons of prophets assassinating leaders etc.Perhaps this is a bad analogy but if you say something antagonizing to a bully and you get your ass kicked you should have anticipated that outcome.',\n",
       " 'Okay Im talking about making the human race smarter forever.Intelligence is at least partially genetic and therefore passed down by parents yes? Yes.So what if instead of killing off the lessintelligent people Im against killing. Of most things. we just limit offspring?For example we could use the IQ scale for want of a better intelligence measure to determine the number of offspring a person should be able to genetically contribute to.Like round the IQ to the nearest multiple of then divide by and thats the number of offspring youre allowed to create.So someone with near average intelligence near IQ would have their IQ rounded to and then divided by to make offspring. The total offspring is presumably equal to the number of people who contributed to it. A man and a woman with average IQ can have two children not each. and sustain their population.Conversely really above average IQs of can contribute genetically towards children... and so on.This would eventually make the human race smarter and therefore more likely to survive and advance the human race. I know this would be a bitch to implement and its near impossible to actually do but Im just looking at the concept. I know the IQ test has its faults and every policy can be abused... I know all that.Exceptions would be made when you accidentally have twins which causes you to go over your limit or etc. If a mother can make and has twins she cant make more but if she already has one and has twins after one which makes were not gonna kill onePerhaps if you have a major heritable health issue your IQ has subtracted from it before being rounded? Or maybe weighted differently like extremely high chance of cancer almost percent or something takes off more... Something like that.Much better than Kill off those with IQ less than I wouldnt mind a smarter human race...I suppose thats true now....',\n",
       " 'Okay Im talking about making the human race smarter forever.Intelligence is at least partially genetic and therefore passed down by parents yes? Yes.So what if instead of killing off the lessintelligent people Im against killing. Of most things. we just limit offspring?For example we could use the IQ scale for want of a better intelligence measure to determine the number of offspring a person should be able to genetically contribute to.Like round the IQ to the nearest multiple of then divide by and thats the number of offspring youre allowed to create.So someone with near average intelligence near IQ would have their IQ rounded to and then divided by to make offspring. The total offspring is presumably equal to the number of people who contributed to it. A man and a woman with average IQ can have two children not each. and sustain their population.Conversely really above average IQs of can contribute genetically towards children... and so on.This would eventually make the human race smarter and therefore more likely to survive and advance the human race. I know this would be a bitch to implement and its near impossible to actually do but Im just looking at the concept. I know the IQ test has its faults and every policy can be abused... I know all that.Exceptions would be made when you accidentally have twins which causes you to go over your limit or etc. If a mother can make and has twins she cant make more but if she already has one and has twins after one which makes were not gonna kill onePerhaps if you have a major heritable health issue your IQ has subtracted from it before being rounded? Or maybe weighted differently like extremely high chance of cancer almost percent or something takes off more... Something like that.Much better than Kill off those with IQ less than I wouldnt mind a smarter human race...I suppose thats true now....']"
      ]
     },
     "execution_count": 171,
     "metadata": {},
     "output_type": "execute_result"
    }
   ],
   "source": [
    "args"
   ]
  },
  {
   "cell_type": "code",
   "execution_count": 172,
   "metadata": {
    "collapsed": false,
    "pycharm": {
     "name": "#%%\n"
    }
   },
   "outputs": [
    {
     "data": {
      "text/plain": [
       "[[['unnatural', 63.15551340835407, 5],\n",
       "  ['natural', 56.79438773499214, 7],\n",
       "  ['nature', 55.89856541018207, 7]],\n",
       " [['oil', 32.33425256235455, 3],\n",
       "  ['wife', 16.659539989207133, 2],\n",
       "  ['skeptical', 11.190158253867963, 1]],\n",
       " [['gun', 25.668442862567645, 4],\n",
       "  ['ownership', 17.72733773278196, 2],\n",
       "  ['train', 14.030417918105968, 2]],\n",
       " [['causation', 346.93649827873776, 28],\n",
       "  ['mug', 198.73137356616772, 18],\n",
       "  ['area', 99.9162981653185, 18]],\n",
       " [['philosophy', 237.63161457767546, 26],\n",
       "  ['study', 159.11153174544233, 20],\n",
       "  ['gain', 52.25974215691849, 8]],\n",
       " [['speech', 16.625745668964782, 2],\n",
       "  ['Sony', 11.442826008990778, 1],\n",
       "  ['cartoon', 11.260983839177868, 1]],\n",
       " [['IQ', 270.97422481972865, 24],\n",
       "  ['offspring', 160.07290931675902, 15],\n",
       "  ['twin', 101.06794709674443, 9]],\n",
       " [['post', 53.75049914919873, 10],\n",
       "  ['controversial', 23.871155906926333, 3],\n",
       "  ['educate', 21.900237518462063, 3]],\n",
       " [['small', 68.81630579014472, 10],\n",
       "  ['car', 51.880609673125036, 8],\n",
       "  ['drive', 38.54274352118682, 6]],\n",
       " [['die', 83.17541515803714, 11],\n",
       "  ['meaningless', 54.44116063660533, 5],\n",
       "  ['return', 21.303907980386384, 3]]]"
      ]
     },
     "execution_count": 172,
     "metadata": {},
     "output_type": "execute_result"
    }
   ],
   "source": [
    "signatures"
   ]
  },
  {
   "cell_type": "code",
   "execution_count": 174,
   "metadata": {
    "collapsed": false,
    "pycharm": {
     "name": "#%%\n"
    }
   },
   "outputs": [
    {
     "name": "stdout",
     "output_type": "stream",
     "text": [
      "As an independent form of study philosophy doesnt seem to have any practical applications. What value does philosophy have in the modern age right now aside from contemplating things. Is it truly worth it to invest a significant amount of time and money studying this field? There do not seem to be any tangible applications or appreciable benefits from studying philosophy aside from personal growth and the expansion of ones intellectual perspective which I argue can be gained without studying philosophy in a rigorously academic manner. I often have read the argument that it is impossible to argue that philosophy is useless without using philosophy or something along those lines.I acknowledge this. Yes I am engaging in the use of philosophy right now at this very moment. However this does not provide an argument as to why it would be worthwhile to STUDY philosophy. What do you gain from studying philosophy that could not be gained from thoughtful introspection? Certainly important tools have originated from philosophical study such as the scientific method and science could be described as a subset of philosophy itself but that isnt an argument against the lack of tangible benefits to be gained from studying philosophy.You dont need to study philosophy to become a capable scientist. You shouldnt need to study philosophy to cultivate a reasonable set of moral principles or to be thoughtful about the circumstances and situations you encounter in your life. [['IQ', 270.97422481972865, 24], ['offspring', 160.07290931675902, 15], ['twin', 101.06794709674443, 9]]\n"
     ]
    }
   ],
   "source": [
    "arg_ = args[6]\n",
    "sig_ = signatures[6]\n",
    "\n",
    "print(arg_, sig_)"
   ]
  },
  {
   "cell_type": "code",
   "execution_count": 175,
   "metadata": {
    "collapsed": false,
    "pycharm": {
     "name": "#%%\n"
    }
   },
   "outputs": [
    {
     "name": "stderr",
     "output_type": "stream",
     "text": [
      "INFO:retriver.elastic_db:Connecting to http://localhost:9200\n"
     ]
    }
   ],
   "source": [
    "### DATABASE INIT ###\n",
    "from retriver.elastic_db import ElasticDB\n",
    "\n",
    "# TODOs: Store as Config\n",
    "# Params\n",
    "PORT = \"http://localhost:9200\"\n",
    "INDEX = \"wiki_evidence\"\n",
    "\n",
    "wiki_db = ElasticDB(elastic_port=PORT, elastic_index=INDEX)"
   ]
  },
  {
   "cell_type": "code",
   "execution_count": 176,
   "metadata": {
    "collapsed": false,
    "pycharm": {
     "name": "#%%\n"
    }
   },
   "outputs": [
    {
     "data": {
      "text/plain": [
       "[As an independent form of study philosophy doesnt seem to have any practical applications.,\n",
       " What value does philosophy have in the modern age right now aside from contemplating things.,\n",
       " Is it truly worth it to invest a significant amount of time and money studying this field?,\n",
       " There do not seem to be any tangible applications or appreciable benefits from studying philosophy aside from personal growth and the expansion of ones intellectual perspective which I argue can be gained without studying philosophy in a rigorously academic manner.,\n",
       " I often have read the argument that it is impossible to argue that philosophy is useless without using philosophy or something along those lines.,\n",
       " I acknowledge this.,\n",
       " Yes I am engaging in the use of philosophy right now at this very moment.,\n",
       " However this does not provide an argument as to why it would be worthwhile to STUDY philosophy.,\n",
       " What do you gain from studying philosophy that could not be gained from thoughtful introspection?,\n",
       " Certainly important tools have originated from philosophical study such as the scientific method and science could be described as a subset of philosophy itself but that isnt an argument against the lack of tangible benefits to be gained from studying philosophy.,\n",
       " You dont need to study philosophy to become a capable scientist.,\n",
       " You shouldnt need to study philosophy to cultivate a reasonable set of moral principles or to be thoughtful about the circumstances and situations you encounter in your life.]"
      ]
     },
     "execution_count": 176,
     "metadata": {},
     "output_type": "execute_result"
    }
   ],
   "source": [
    "### ARGUMENT SENTENCE SEGMENTATION ###\n",
    "import spacy\n",
    "\n",
    "nlp = spacy.load(\"en_core_web_sm\")\n",
    "doc = nlp(arg_)\n",
    "\n",
    "sents = []\n",
    "for i in doc.sents:\n",
    "    sents.append(i)\n",
    "\n",
    "sents"
   ]
  },
  {
   "cell_type": "code",
   "execution_count": 179,
   "metadata": {
    "collapsed": false,
    "pycharm": {
     "name": "#%%\n"
    }
   },
   "outputs": [
    {
     "data": {
      "text/plain": [
       "['applications, form, philosophy, seem, study, have',\n",
       " 'have, contemplating, philosophy, age, value, things',\n",
       " 'field, money, amount, invest, time, studying',\n",
       " 'gained, argue, philosophy, growth, applications, expansion, benefits, philosophy, studying, manner, ones, studying, seem, perspective',\n",
       " 'philosophy, read, argument, philosophy, argue, using, lines',\n",
       " 'acknowledge',\n",
       " 'use, philosophy, engaging, moment',\n",
       " 'study, provide, philosophy, argument',\n",
       " 'introspection, gain, philosophy, studying, gained',\n",
       " 'science, subset, originated, described, study, lack, argument, benefits, philosophy, gained, philosophy, method, tools, studying',\n",
       " 'need, philosophy, become, study, scientist',\n",
       " 'need, philosophy, life, encounter, circumstances, study, cultivate, principles, set, situations']"
      ]
     },
     "execution_count": 179,
     "metadata": {},
     "output_type": "execute_result"
    }
   ],
   "source": [
    "# TODOs: Use Chunking\n",
    "\n",
    "terms_ = []\n",
    "for i in sents:\n",
    "    terms = set()\n",
    "    for tok in i:\n",
    "        if tok.pos_ == \"NOUN\" or tok.pos_ == \"VERB\":\n",
    "            terms.add(tok)\n",
    "\n",
    "    terms_.append(terms)\n",
    "\n",
    "topics = [k[0] for k in sig_]\n",
    "queries = []\n",
    "\n",
    "# TODOs: Add Topic Signatures\n",
    "for i in terms_:\n",
    "    query = \", \".join([str(j).lower() for j in i])\n",
    "    queries.append(query)\n",
    "\n",
    "queries"
   ]
  },
  {
   "cell_type": "code",
   "execution_count": 180,
   "metadata": {
    "collapsed": false,
    "pycharm": {
     "name": "#%%\n"
    }
   },
   "outputs": [
    {
     "name": "stderr",
     "output_type": "stream",
     "text": [
      "INFO:elastic_transport.transport:POST http://localhost:9200/wiki_evidence/_search [status:200 duration:0.008s]\n",
      "INFO:elastic_transport.transport:POST http://localhost:9200/wiki_evidence/_search [status:200 duration:0.003s]\n",
      "INFO:elastic_transport.transport:POST http://localhost:9200/wiki_evidence/_search [status:200 duration:0.003s]\n",
      "INFO:elastic_transport.transport:POST http://localhost:9200/wiki_evidence/_search [status:200 duration:0.005s]\n",
      "INFO:elastic_transport.transport:POST http://localhost:9200/wiki_evidence/_search [status:200 duration:0.003s]\n",
      "INFO:elastic_transport.transport:POST http://localhost:9200/wiki_evidence/_search [status:200 duration:0.003s]\n",
      "INFO:elastic_transport.transport:POST http://localhost:9200/wiki_evidence/_search [status:200 duration:0.003s]\n",
      "INFO:elastic_transport.transport:POST http://localhost:9200/wiki_evidence/_search [status:200 duration:0.004s]\n",
      "INFO:elastic_transport.transport:POST http://localhost:9200/wiki_evidence/_search [status:200 duration:0.004s]\n",
      "INFO:elastic_transport.transport:POST http://localhost:9200/wiki_evidence/_search [status:200 duration:0.004s]\n",
      "INFO:elastic_transport.transport:POST http://localhost:9200/wiki_evidence/_search [status:200 duration:0.003s]\n",
      "INFO:elastic_transport.transport:POST http://localhost:9200/wiki_evidence/_search [status:200 duration:0.004s]\n"
     ]
    }
   ],
   "source": [
    "### DATABASE QUERY ###\n",
    "\n",
    "passages = []\n",
    "for _ in queries:\n",
    "    passages.append((query, wiki_db.search(_, k=1)))"
   ]
  },
  {
   "cell_type": "code",
   "execution_count": 181,
   "metadata": {
    "collapsed": false,
    "pycharm": {
     "name": "#%%\n"
    }
   },
   "outputs": [
    {
     "data": {
      "text/plain": [
       "[('need, philosophy, life, encounter, circumstances, study, cultivate, principles, set, situations',\n",
       "  ([{'_index': 'wiki_evidence',\n",
       "     '_id': 'YxgrxYIBupgAEyuBfve9',\n",
       "     '_score': 10.806194,\n",
       "     '_source': {'id': '8036355',\n",
       "      'title': 'Framework-specific modeling language',\n",
       "      'text': 'Applications.'}}],\n",
       "   ['8036355'])),\n",
       " ('need, philosophy, life, encounter, circumstances, study, cultivate, principles, set, situations',\n",
       "  ([{'_index': 'wiki_evidence',\n",
       "     '_id': 'NRgrxYIBupgAEyuBP_Pt',\n",
       "     '_score': 8.909443,\n",
       "     '_source': {'id': '8034831',\n",
       "      'title': 'Peter Koslowski',\n",
       "      'text': 'Peter Koslowski (2 October 1952 – 15 May 2012) was a professor of philosophy, especially philosophy of management and organisation and history of modern philosophy, at the Vrije Universiteit Amsterdam (VU University Amsterdam).'}}],\n",
       "   ['8034831'])),\n",
       " ('need, philosophy, life, encounter, circumstances, study, cultivate, principles, set, situations',\n",
       "  ([{'_index': 'wiki_evidence',\n",
       "     '_id': 'ohgrxYIBupgAEyuBRfO5',\n",
       "     '_score': 9.39465,\n",
       "     '_ignored': ['text.keyword'],\n",
       "     '_source': {'id': '8034974',\n",
       "      'title': 'Nathaniel Lande',\n",
       "      'text': 'While Creative Director for the Magazine Group at Time Inc., he innovated presentations for the publishers of the magazines writing musical revues: \"All About Life\", \"One for the Money\", and \"10 the Musical\", for \"Life\", \"Money\", and \"People\" magazines respectively. Each combined editorial content and publishing attributes. They were mini Broadway revues touring the country targeting advertisers. His creators included Scott Ellis and Susan Stroman, who became Broadway directors. Susan Stroman is best known for \"Contact\" and \"The Producers\". As Director of Time World News Service, he broadcast \"Time\" stories to America and 70 countries around the world, writing and producing over 800 radio broadcasts.'}}],\n",
       "   ['8034974'])),\n",
       " ('need, philosophy, life, encounter, circumstances, study, cultivate, principles, set, situations',\n",
       "  ([{'_index': 'wiki_evidence',\n",
       "     '_id': 'oRgrxYIBupgAEyuBY_WS',\n",
       "     '_score': 20.184202,\n",
       "     '_ignored': ['text.keyword'],\n",
       "     '_source': {'id': '8035666',\n",
       "      'title': 'Engelbert of Admont',\n",
       "      'text': 'He was born of noble parents at Volkersdorf in Styria, and entered the monastery of Admont about 1267. Four years later he was sent to Prague to study grammar and logic. After devoting himself for two years to these studies he spent nine years at the University of Padua studying philosophy and theology.'}}],\n",
       "   ['8035666'])),\n",
       " ('need, philosophy, life, encounter, circumstances, study, cultivate, principles, set, situations',\n",
       "  ([{'_index': 'wiki_evidence',\n",
       "     '_id': 'NRgrxYIBupgAEyuBP_Pt',\n",
       "     '_score': 17.818886,\n",
       "     '_source': {'id': '8034831',\n",
       "      'title': 'Peter Koslowski',\n",
       "      'text': 'Peter Koslowski (2 October 1952 – 15 May 2012) was a professor of philosophy, especially philosophy of management and organisation and history of modern philosophy, at the Vrije Universiteit Amsterdam (VU University Amsterdam).'}}],\n",
       "   ['8034831'])),\n",
       " ('need, philosophy, life, encounter, circumstances, study, cultivate, principles, set, situations',\n",
       "  ([], [])),\n",
       " ('need, philosophy, life, encounter, circumstances, study, cultivate, principles, set, situations',\n",
       "  ([{'_index': 'wiki_evidence',\n",
       "     '_id': 'NRgrxYIBupgAEyuBP_Pt',\n",
       "     '_score': 8.909443,\n",
       "     '_source': {'id': '8034831',\n",
       "      'title': 'Peter Koslowski',\n",
       "      'text': 'Peter Koslowski (2 October 1952 – 15 May 2012) was a professor of philosophy, especially philosophy of management and organisation and history of modern philosophy, at the Vrije Universiteit Amsterdam (VU University Amsterdam).'}}],\n",
       "   ['8034831'])),\n",
       " ('need, philosophy, life, encounter, circumstances, study, cultivate, principles, set, situations',\n",
       "  ([{'_index': 'wiki_evidence',\n",
       "     '_id': 'oRgrxYIBupgAEyuBY_WS',\n",
       "     '_score': 9.270525,\n",
       "     '_ignored': ['text.keyword'],\n",
       "     '_source': {'id': '8035666',\n",
       "      'title': 'Engelbert of Admont',\n",
       "      'text': 'He was born of noble parents at Volkersdorf in Styria, and entered the monastery of Admont about 1267. Four years later he was sent to Prague to study grammar and logic. After devoting himself for two years to these studies he spent nine years at the University of Padua studying philosophy and theology.'}}],\n",
       "   ['8035666'])),\n",
       " ('need, philosophy, life, encounter, circumstances, study, cultivate, principles, set, situations',\n",
       "  ([{'_index': 'wiki_evidence',\n",
       "     '_id': 'oRgrxYIBupgAEyuBY_WS',\n",
       "     '_score': 10.092101,\n",
       "     '_ignored': ['text.keyword'],\n",
       "     '_source': {'id': '8035666',\n",
       "      'title': 'Engelbert of Admont',\n",
       "      'text': 'He was born of noble parents at Volkersdorf in Styria, and entered the monastery of Admont about 1267. Four years later he was sent to Prague to study grammar and logic. After devoting himself for two years to these studies he spent nine years at the University of Padua studying philosophy and theology.'}}],\n",
       "   ['8035666'])),\n",
       " ('need, philosophy, life, encounter, circumstances, study, cultivate, principles, set, situations',\n",
       "  ([{'_index': 'wiki_evidence',\n",
       "     '_id': 'oRgrxYIBupgAEyuBY_WS',\n",
       "     '_score': 19.362625,\n",
       "     '_ignored': ['text.keyword'],\n",
       "     '_source': {'id': '8035666',\n",
       "      'title': 'Engelbert of Admont',\n",
       "      'text': 'He was born of noble parents at Volkersdorf in Styria, and entered the monastery of Admont about 1267. Four years later he was sent to Prague to study grammar and logic. After devoting himself for two years to these studies he spent nine years at the University of Padua studying philosophy and theology.'}}],\n",
       "   ['8035666'])),\n",
       " ('need, philosophy, life, encounter, circumstances, study, cultivate, principles, set, situations',\n",
       "  ([{'_index': 'wiki_evidence',\n",
       "     '_id': 'oRgrxYIBupgAEyuBY_WS',\n",
       "     '_score': 9.270525,\n",
       "     '_ignored': ['text.keyword'],\n",
       "     '_source': {'id': '8035666',\n",
       "      'title': 'Engelbert of Admont',\n",
       "      'text': 'He was born of noble parents at Volkersdorf in Styria, and entered the monastery of Admont about 1267. Four years later he was sent to Prague to study grammar and logic. After devoting himself for two years to these studies he spent nine years at the University of Padua studying philosophy and theology.'}}],\n",
       "   ['8035666'])),\n",
       " ('need, philosophy, life, encounter, circumstances, study, cultivate, principles, set, situations',\n",
       "  ([{'_index': 'wiki_evidence',\n",
       "     '_id': 'tRgrxYIBupgAEyuBgvf3',\n",
       "     '_score': 10.123472,\n",
       "     '_source': {'id': '8036407',\n",
       "      'title': 'Korean paper',\n",
       "      'text': 'Scientific principles.'}}],\n",
       "   ['8036407']))]"
      ]
     },
     "execution_count": 181,
     "metadata": {},
     "output_type": "execute_result"
    }
   ],
   "source": [
    "passages"
   ]
  },
  {
   "cell_type": "code",
   "execution_count": 169,
   "metadata": {
    "collapsed": false,
    "pycharm": {
     "name": "#%%\n"
    }
   },
   "outputs": [
    {
     "data": {
      "text/plain": [
       "['Engelbert (c. 1250 – 12 May 1331) was Abbot of the Benedictine monastery of Admont in Styria.',\n",
       " 'Life.',\n",
       " 'He was born of noble parents at Volkersdorf in Styria, and entered the monastery of Admont about 1267. Four years later he was sent to Prague to study grammar and logic. After devoting himself for two years to these studies he spent nine years at the University of Padua studying philosophy and theology.',\n",
       " 'In 1297 he was elected Abbot of Admont, and after ruling thirty years he resigned this dignity when he was almost eighty years old, in order to spend the remainder of his life in prayer and study. Engelbert was one of the most learned men of his times, and there was scarcely any branch of knowledge to which his versatile pen did not contribute its share.',\n",
       " 'Works.',\n",
       " 'His literary productions include works on moral and dogmatic theology, philosophy, history, political science, Holy Scripture, the natural sciences, pedagogy, and music.',\n",
       " 'The best known of Engelbert\\'s works is his historico-political treatise \"De ortu, progressu et fine Romani imperii\", which was written during the reign of Emperor Henry VII (1308–1313). It puts forth the following political principles: a ruler must be a learned man; his sole aim must be the welfare of his subjects; an unjust ruler may be justly deposed; emperor and pope are, each in his sphere, independent rulers; the Holy Roman Empire is a Christian continuation of the pagan empire of ancient Rome; there should be only one supreme temporal ruler, the emperor, to whom all other temporal rulers should be subject. He bewails the gradual decline of both imperial and papal authority, prophesies the early coming of Antichrist and with it the ruin of the Holy Roman Empire and a wholesale desertion of the Holy See. The work was published repeatedly.',\n",
       " 'Following are the most important of the other works of Engelbert which have been printed: \"De gratus et virtutibus beatae et gloriosae semper V. Marie\"; \"De libero arbitrio\"; \"De causâ longaevitatis hominum ante diluvium\"; \"De providentiâ Dei\"; \"De statu defunctorum\"; \"Speculum virtutis pro Alberto et Ottone Austriae ducibus\"; \"Super passionem secundum Matthaeum\"; \"De regimine principum,\" a work on political science, containing sound suggestions on education in general; \"De summo bono hominis in hâc vitâ,\" \"Dialogus concupiscentiae et rationis,\" \"Utrum sapienti competat ducere uxorem\"; \"De musica tractatus,\" a very interesting treatise on music, illustrating the great difficulties with which teachers of music were beset in consequence of the complicated system of the hexachord with its solmization and mutation. The treatise was inserted by Gerbert in his \"Scriptores ecclesiastici de musicâ sacrâ.\"']"
      ]
     },
     "execution_count": 169,
     "metadata": {},
     "output_type": "execute_result"
    }
   ],
   "source": [
    "# TODOs: Segment Articles into Passages and Index in ElasticSearch\n",
    "# TODOs: Update Build Elastic DB script, to segment\n",
    "\n",
    "# COPY\n",
    "def paragraphs(document):\n",
    "    start = 0\n",
    "    passages = []\n",
    "    for token in document:\n",
    "        if token.is_space and token.text.count(\"\\n\") > 1:\n",
    "            yield document[start:token.i]\n",
    "            start = token.i\n",
    "    yield document[start:]\n",
    "    #return passages.append(document[start:])\n",
    "\n",
    "serach, article = articles[0]\n",
    "article[0]\n",
    "\n",
    "import json\n",
    "art_ = nlp(article[0][0][\"_source\"][\"text\"])\n",
    "\n",
    "passages = paragraphs(art_)\n",
    "passages = [str(i) for i in paragraphs(art_)]\n",
    "passages[0].split(\"\\n\")"
   ]
  },
  {
   "cell_type": "code",
   "execution_count": 1,
   "metadata": {
    "collapsed": false,
    "pycharm": {
     "name": "#%%\n"
    }
   },
   "outputs": [
    {
     "name": "stdout",
     "output_type": "stream",
     "text": [
      "Number of cpu :  10\n"
     ]
    }
   ],
   "source": [
    "import multiprocessing\n",
    "\n",
    "print(\"Number of cpu : \", multiprocessing.cpu_count())"
   ]
  },
  {
   "cell_type": "code",
   "execution_count": null,
   "metadata": {
    "collapsed": false,
    "pycharm": {
     "name": "#%%\n"
    }
   },
   "outputs": [],
   "source": []
  }
 ],
 "metadata": {
  "kernelspec": {
   "display_name": "Python 3.8.9 64-bit",
   "language": "python",
   "name": "python3"
  },
  "language_info": {
   "codemirror_mode": {
    "name": "ipython",
    "version": 2
   },
   "file_extension": ".py",
   "mimetype": "text/x-python",
   "name": "python",
   "nbconvert_exporter": "python",
   "pygments_lexer": "ipython2",
   "version": "3.8.9"
  },
  "vscode": {
   "interpreter": {
    "hash": "31f2aee4e71d21fbe5cf8b01ff0e069b9275f58929596ceb00d14d90e3e16cd6"
   }
  }
 },
 "nbformat": 4,
 "nbformat_minor": 0
}
